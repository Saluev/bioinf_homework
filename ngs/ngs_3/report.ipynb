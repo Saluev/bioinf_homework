{
 "cells": [
  {
   "cell_type": "code",
   "execution_count": 1,
   "id": "5163075d",
   "metadata": {},
   "outputs": [],
   "source": [
    "import sys\n",
    "sys.path.append('/Users/saluev/Work/bioinf_homework/')"
   ]
  },
  {
   "cell_type": "code",
   "execution_count": 2,
   "id": "482aca19",
   "metadata": {},
   "outputs": [],
   "source": [
    "! ln -s /Users/saluev/Downloads/minimap2/minimap2 minimap2"
   ]
  },
  {
   "cell_type": "code",
   "execution_count": 4,
   "id": "05fdcbbc",
   "metadata": {},
   "outputs": [
    {
     "name": "stdout",
     "output_type": "stream",
     "text": [
      "Usage: minimap2 [options] <target.fa>|<target.idx> [query.fa] [...]\r\n",
      "Options:\r\n",
      "  Indexing:\r\n",
      "    -H           use homopolymer-compressed k-mer (preferrable for PacBio)\r\n",
      "    -k INT       k-mer size (no larger than 28) [15]\r\n",
      "    -w INT       minimizer window size [10]\r\n",
      "    -I NUM       split index for every ~NUM input bases [4G]\r\n",
      "    -d FILE      dump index to FILE []\r\n",
      "  Mapping:\r\n",
      "    -f FLOAT     filter out top FLOAT fraction of repetitive minimizers [0.0002]\r\n",
      "    -g NUM       stop chain enlongation if there are no minimizers in INT-bp [5000]\r\n",
      "    -G NUM       max intron length (effective with -xsplice; changing -r) [200k]\r\n",
      "    -F NUM       max fragment length (effective with -xsr or in the fragment mode) [800]\r\n",
      "    -r NUM[,NUM] chaining/alignment bandwidth and long-join bandwidth [500,20000]\r\n",
      "    -n INT       minimal number of minimizers on a chain [3]\r\n",
      "    -m INT       minimal chaining score (matching bases minus log gap penalty) [40]\r\n",
      "    -X           skip self and dual mappings (for the all-vs-all mode)\r\n",
      "    -p FLOAT     min secondary-to-primary score ratio [0.8]\r\n",
      "    -N INT       retain at most INT secondary alignments [5]\r\n",
      "  Alignment:\r\n",
      "    -A INT       matching score [2]\r\n",
      "    -B INT       mismatch penalty (larger value for lower divergence) [4]\r\n",
      "    -O INT[,INT] gap open penalty [4,24]\r\n",
      "    -E INT[,INT] gap extension penalty; a k-long gap costs min{O1+k*E1,O2+k*E2} [2,1]\r\n",
      "    -z INT[,INT] Z-drop score and inversion Z-drop score [400,200]\r\n",
      "    -s INT       minimal peak DP alignment score [80]\r\n",
      "    -u CHAR      how to find GT-AG. f:transcript strand, b:both strands, n:don't match GT-AG [n]\r\n",
      "  Input/Output:\r\n",
      "    -a           output in the SAM format (PAF by default)\r\n",
      "    -o FILE      output alignments to FILE [stdout]\r\n",
      "    -L           write CIGAR with >65535 ops at the CG tag\r\n",
      "    -R STR       SAM read group line in a format like '@RG\\tID:foo\\tSM:bar' []\r\n",
      "    -c           output CIGAR in PAF\r\n",
      "    --cs[=STR]   output the cs tag; STR is 'short' (if absent) or 'long' [none]\r\n",
      "    --MD         output the MD tag\r\n",
      "    --eqx        write =/X CIGAR operators\r\n",
      "    -Y           use soft clipping for supplementary alignments\r\n",
      "    -t INT       number of threads [3]\r\n",
      "    -K NUM       minibatch size for mapping [500M]\r\n",
      "    --version    show version number\r\n",
      "  Preset:\r\n",
      "    -x STR       preset (always applied before other options; see minimap2.1 for details) []\r\n",
      "                 - map-pb/map-ont - PacBio CLR/Nanopore vs reference mapping\r\n",
      "                 - map-hifi - PacBio HiFi reads vs reference mapping\r\n",
      "                 - ava-pb/ava-ont - PacBio/Nanopore read overlap\r\n",
      "                 - asm5/asm10/asm20 - asm-to-ref mapping, for ~0.1/1/5% sequence divergence\r\n",
      "                 - splice/splice:hq - long-read/Pacbio-CCS spliced alignment\r\n",
      "                 - sr - genomic short-read mapping\r\n",
      "\r\n",
      "See `man ./minimap2.1' for detailed description of these and other advanced command-line options.\r\n"
     ]
    }
   ],
   "source": [
    "! ./minimap2 --help"
   ]
  },
  {
   "cell_type": "code",
   "execution_count": 5,
   "id": "657e1a9b",
   "metadata": {},
   "outputs": [
    {
     "name": "stdout",
     "output_type": "stream",
     "text": [
      "[M::mm_idx_gen::0.233*0.99] collected minimizers\n",
      "[M::mm_idx_gen::0.268*1.24] sorted minimizers\n",
      "[M::main::0.456*1.07] loaded/built the index for 1 target sequence(s)\n",
      "[M::mm_idx_stat] kmer size: 15; skip: 10; is_hpc: 0; #seq: 1\n",
      "[M::mm_idx_stat::0.468*1.06] distinct minimizers: 838533 (98.18% are singletons); average occurrences: 1.034; average spacing: 5.352; total length: 4639675\n",
      "[M::main] Version: 2.24-r1122\n",
      "[M::main] CMD: ./minimap2 -x map-ont -d reference.mmi /Users/saluev/Downloads/3/reference.fasta\n",
      "[M::main] Real time: 0.512 sec; CPU: 0.516 sec; Peak RSS: 0.065 GB\n"
     ]
    }
   ],
   "source": [
    "! ./minimap2 -x map-ont -d reference.mmi /Users/saluev/Downloads/3/reference.fasta"
   ]
  },
  {
   "cell_type": "markdown",
   "id": "44a3bc52",
   "metadata": {},
   "source": [
    "# Риды Oxford Nanopore"
   ]
  },
  {
   "cell_type": "code",
   "execution_count": 6,
   "id": "143d2f83",
   "metadata": {},
   "outputs": [
    {
     "name": "stdout",
     "output_type": "stream",
     "text": [
      "[M::main::0.200*0.81] loaded/built the index for 1 target sequence(s)\n",
      "[M::mm_mapopt_update::0.232*0.79] mid_occ = 11\n",
      "[M::mm_idx_stat] kmer size: 15; skip: 10; is_hpc: 0; #seq: 1\n",
      "[M::mm_idx_stat::0.250*0.79] distinct minimizers: 838533 (98.18% are singletons); average occurrences: 1.034; average spacing: 5.352; total length: 4639675\n",
      "[M::worker_pipeline::34.944*2.38] mapped 30810 sequences\n",
      "[M::main] Version: 2.24-r1122\n",
      "[M::main] CMD: ./minimap2 -a reference.mmi /Users/saluev/Downloads/3/ONT_2D.fastq.gz\n",
      "[M::main] Real time: 34.972 sec; CPU: 83.321 sec; Peak RSS: 1.020 GB\n"
     ]
    }
   ],
   "source": [
    "! ./minimap2 -a reference.mmi /Users/saluev/Downloads/3/ONT_2D.fastq.gz > onp.sam"
   ]
  },
  {
   "cell_type": "code",
   "execution_count": 2,
   "id": "eefcc4d9",
   "metadata": {},
   "outputs": [
    {
     "data": {
      "image/png": "[encoded data removed]",
      "text/plain": [
       "<Figure size 432x288 with 1 Axes>"
      ]
     },
     "metadata": {
      "needs_background": "light"
     },
     "output_type": "display_data"
    },
    {
     "data": {
      "text/plain": [
       "{'gi|48994873|gb|U00096.2|': 27.498397301880562}"
      ]
     },
     "execution_count": 2,
     "metadata": {},
     "output_type": "execute_result"
    }
   ],
   "source": [
    "from ngs.ngs_2.coverage import evaluate_alignment_coverage\n",
    "coverage = evaluate_alignment_coverage(\n",
    "    reference=\"/Users/saluev/Downloads/3/reference.fasta\", \n",
    "    alignment=\"onp.sam\",\n",
    "    window=10000,\n",
    ")\n",
    "coverage"
   ]
  },
  {
   "cell_type": "code",
   "execution_count": 3,
   "id": "36617dbe",
   "metadata": {},
   "outputs": [
    {
     "name": "stdout",
     "output_type": "stream",
     "text": [
      "Средний процент ошибок в ридах: 7.91%\n",
      "Средняя длина вставки: 1.79\n",
      "Средняя длина делеции: 1.89\n",
      "Процент вставок рядом с гомополимерными участками: 4.66%\n",
      "Среднее качество вставленного нуклеотида: 10.99\n",
      "Среднее качество заменённого нуклеотида: 8.32\n"
     ]
    },
    {
     "data": {
      "text/html": [
       "<div>\n",
       "<style scoped>\n",
       "    .dataframe tbody tr th:only-of-type {\n",
       "        vertical-align: middle;\n",
       "    }\n",
       "\n",
       "    .dataframe tbody tr th {\n",
       "        vertical-align: top;\n",
       "    }\n",
       "\n",
       "    .dataframe thead th {\n",
       "        text-align: right;\n",
       "    }\n",
       "</style>\n",
       "<table border=\"1\" class=\"dataframe\">\n",
       "  <thead>\n",
       "    <tr style=\"text-align: right;\">\n",
       "      <th></th>\n",
       "      <th>A</th>\n",
       "      <th>C</th>\n",
       "      <th>G</th>\n",
       "      <th>T</th>\n",
       "      <th>_</th>\n",
       "    </tr>\n",
       "  </thead>\n",
       "  <tbody>\n",
       "    <tr>\n",
       "      <th>A</th>\n",
       "      <td>—</td>\n",
       "      <td>113177</td>\n",
       "      <td>368870</td>\n",
       "      <td>105572</td>\n",
       "      <td>1609768</td>\n",
       "    </tr>\n",
       "    <tr>\n",
       "      <th>C</th>\n",
       "      <td>137383</td>\n",
       "      <td>—</td>\n",
       "      <td>85186</td>\n",
       "      <td>341223</td>\n",
       "      <td>1539123</td>\n",
       "    </tr>\n",
       "    <tr>\n",
       "      <th>G</th>\n",
       "      <td>320153</td>\n",
       "      <td>91513</td>\n",
       "      <td>—</td>\n",
       "      <td>126808</td>\n",
       "      <td>1560890</td>\n",
       "    </tr>\n",
       "    <tr>\n",
       "      <th>T</th>\n",
       "      <td>107997</td>\n",
       "      <td>373144</td>\n",
       "      <td>111626</td>\n",
       "      <td>—</td>\n",
       "      <td>1606626</td>\n",
       "    </tr>\n",
       "    <tr>\n",
       "      <th>_</th>\n",
       "      <td>398813</td>\n",
       "      <td>378428</td>\n",
       "      <td>394692</td>\n",
       "      <td>394839</td>\n",
       "      <td>—</td>\n",
       "    </tr>\n",
       "  </tbody>\n",
       "</table>\n",
       "</div>"
      ],
      "text/plain": [
       "        A       C       G       T        _\n",
       "A       —  113177  368870  105572  1609768\n",
       "C  137383       —   85186  341223  1539123\n",
       "G  320153   91513       —  126808  1560890\n",
       "T  107997  373144  111626       —  1606626\n",
       "_  398813  378428  394692  394839        —"
      ]
     },
     "execution_count": 3,
     "metadata": {},
     "output_type": "execute_result"
    }
   ],
   "source": [
    "import pandas as pd\n",
    "from ngs.ngs_2.mismatch_frequency import evaluate_mismatch_frequency\n",
    "stats = evaluate_mismatch_frequency(\n",
    "    reference=\"/Users/saluev/Downloads/3/reference.fasta\", \n",
    "    alignment=\"onp.sam\",\n",
    "    homopolymer_length_threshold=4,\n",
    ")\n",
    "print(f\"Средний процент ошибок в ридах: {stats.avg_error_rate*100:.2f}%\")\n",
    "print(f\"Средняя длина вставки: {stats.avg_insertion_length:.2f}\")\n",
    "print(f\"Средняя длина делеции: {stats.avg_deletion_length:.2f}\")\n",
    "print(f\"Процент вставок рядом с гомополимерными участками: {stats.homopolymer_close_insertions_rate*100:.2f}%\")\n",
    "print(f\"Среднее качество вставленного нуклеотида: {stats.avg_insertion_quality:.2f}\")\n",
    "print(f\"Среднее качество заменённого нуклеотида: {stats.avg_mismatch_quality:.2f}\")\n",
    "pd.DataFrame(data=[\n",
    "    [stats.replacement_count[n1, n2] if n1 != n2 else \"—\" for n2 in list(\"ACGT\") + [\"\"]]\n",
    "    for n1 in list(\"ACGT\") + [\"\"]\n",
    "], index=list(\"ACGT_\"), columns=list(\"ACGT_\"))"
   ]
  },
  {
   "cell_type": "markdown",
   "id": "e7b079df",
   "metadata": {},
   "source": [
    "# Риды PacBio"
   ]
  },
  {
   "cell_type": "code",
   "execution_count": 7,
   "id": "73730d82",
   "metadata": {},
   "outputs": [
    {
     "name": "stdout",
     "output_type": "stream",
     "text": [
      "[M::main::0.116*0.99] loaded/built the index for 1 target sequence(s)\n",
      "[M::mm_mapopt_update::0.129*0.99] mid_occ = 11\n",
      "[M::mm_idx_stat] kmer size: 15; skip: 10; is_hpc: 0; #seq: 1\n",
      "[M::mm_idx_stat::0.139*0.99] distinct minimizers: 838533 (98.18% are singletons); average occurrences: 1.034; average spacing: 5.352; total length: 4639675\n",
      "[M::worker_pipeline::101.998*2.30] mapped 41447 sequences\n",
      "[M::main] Version: 2.24-r1122\n",
      "[M::main] CMD: ./minimap2 -a reference.mmi /Users/saluev/Downloads/3/pacbio_40x.fq.gz\n",
      "[M::main] Real time: 102.058 sec; CPU: 234.298 sec; Peak RSS: 1.780 GB\n"
     ]
    }
   ],
   "source": [
    "! ./minimap2 -a reference.mmi /Users/saluev/Downloads/3/pacbio_40x.fq.gz > pacbio.sam"
   ]
  },
  {
   "cell_type": "code",
   "execution_count": 4,
   "id": "9a82d1bb",
   "metadata": {},
   "outputs": [
    {
     "data": {
      "image/png": "[encoded data removed]",
      "text/plain": [
       "<Figure size 432x288 with 1 Axes>"
      ]
     },
     "metadata": {
      "needs_background": "light"
     },
     "output_type": "display_data"
    },
    {
     "data": {
      "text/plain": [
       "{'gi|48994873|gb|U00096.2|': 47.9792664401566}"
      ]
     },
     "execution_count": 4,
     "metadata": {},
     "output_type": "execute_result"
    }
   ],
   "source": [
    "from ngs.ngs_2.coverage import evaluate_alignment_coverage\n",
    "coverage = evaluate_alignment_coverage(\n",
    "    reference=\"/Users/saluev/Downloads/3/reference.fasta\", \n",
    "    alignment=\"pacbio.sam\",\n",
    "    window=10000,\n",
    ")\n",
    "coverage"
   ]
  },
  {
   "cell_type": "code",
   "execution_count": 5,
   "id": "ddd2ac2c",
   "metadata": {},
   "outputs": [
    {
     "name": "stdout",
     "output_type": "stream",
     "text": [
      "Средний процент ошибок в ридах: 13.83%\n",
      "Средняя длина вставки: 1.54\n",
      "Средняя длина делеции: 1.20\n",
      "Процент вставок рядом с гомополимерными участками: 4.00%\n",
      "Среднее качество вставленного нуклеотида: 6.76\n",
      "Среднее качество заменённого нуклеотида: 6.57\n"
     ]
    },
    {
     "data": {
      "text/html": [
       "<div>\n",
       "<style scoped>\n",
       "    .dataframe tbody tr th:only-of-type {\n",
       "        vertical-align: middle;\n",
       "    }\n",
       "\n",
       "    .dataframe tbody tr th {\n",
       "        vertical-align: top;\n",
       "    }\n",
       "\n",
       "    .dataframe thead th {\n",
       "        text-align: right;\n",
       "    }\n",
       "</style>\n",
       "<table border=\"1\" class=\"dataframe\">\n",
       "  <thead>\n",
       "    <tr style=\"text-align: right;\">\n",
       "      <th></th>\n",
       "      <th>A</th>\n",
       "      <th>C</th>\n",
       "      <th>G</th>\n",
       "      <th>T</th>\n",
       "      <th>_</th>\n",
       "    </tr>\n",
       "  </thead>\n",
       "  <tbody>\n",
       "    <tr>\n",
       "      <th>A</th>\n",
       "      <td>—</td>\n",
       "      <td>358444</td>\n",
       "      <td>311578</td>\n",
       "      <td>289459</td>\n",
       "      <td>1443519</td>\n",
       "    </tr>\n",
       "    <tr>\n",
       "      <th>C</th>\n",
       "      <td>460943</td>\n",
       "      <td>—</td>\n",
       "      <td>418012</td>\n",
       "      <td>326074</td>\n",
       "      <td>2078481</td>\n",
       "    </tr>\n",
       "    <tr>\n",
       "      <th>G</th>\n",
       "      <td>326188</td>\n",
       "      <td>419146</td>\n",
       "      <td>—</td>\n",
       "      <td>454244</td>\n",
       "      <td>2070219</td>\n",
       "    </tr>\n",
       "    <tr>\n",
       "      <th>T</th>\n",
       "      <td>289488</td>\n",
       "      <td>312910</td>\n",
       "      <td>363517</td>\n",
       "      <td>—</td>\n",
       "      <td>1439334</td>\n",
       "    </tr>\n",
       "    <tr>\n",
       "      <th>_</th>\n",
       "      <td>3673247</td>\n",
       "      <td>4555981</td>\n",
       "      <td>4561115</td>\n",
       "      <td>3659184</td>\n",
       "      <td>—</td>\n",
       "    </tr>\n",
       "  </tbody>\n",
       "</table>\n",
       "</div>"
      ],
      "text/plain": [
       "         A        C        G        T        _\n",
       "A        —   358444   311578   289459  1443519\n",
       "C   460943        —   418012   326074  2078481\n",
       "G   326188   419146        —   454244  2070219\n",
       "T   289488   312910   363517        —  1439334\n",
       "_  3673247  4555981  4561115  3659184        —"
      ]
     },
     "execution_count": 5,
     "metadata": {},
     "output_type": "execute_result"
    }
   ],
   "source": [
    "import pandas as pd\n",
    "from ngs.ngs_2.mismatch_frequency import evaluate_mismatch_frequency\n",
    "stats = evaluate_mismatch_frequency(\n",
    "    reference=\"/Users/saluev/Downloads/3/reference.fasta\", \n",
    "    alignment=\"pacbio.sam\",\n",
    "    homopolymer_length_threshold=4,\n",
    ")\n",
    "print(f\"Средний процент ошибок в ридах: {stats.avg_error_rate*100:.2f}%\")\n",
    "print(f\"Средняя длина вставки: {stats.avg_insertion_length:.2f}\")\n",
    "print(f\"Средняя длина делеции: {stats.avg_deletion_length:.2f}\")\n",
    "print(f\"Процент вставок рядом с гомополимерными участками: {stats.homopolymer_close_insertions_rate*100:.2f}%\")\n",
    "print(f\"Среднее качество вставленного нуклеотида: {stats.avg_insertion_quality:.2f}\")\n",
    "print(f\"Среднее качество заменённого нуклеотида: {stats.avg_mismatch_quality:.2f}\")\n",
    "pd.DataFrame(data=[\n",
    "    [stats.replacement_count[n1, n2] if n1 != n2 else \"—\" for n2 in list(\"ACGT\") + [\"\"]]\n",
    "    for n1 in list(\"ACGT\") + [\"\"]\n",
    "], index=list(\"ACGT_\"), columns=list(\"ACGT_\"))"
   ]
  },
  {
   "cell_type": "markdown",
   "id": "c391592a",
   "metadata": {},
   "source": [
    "Видим, что PacBio даёт больше ошибок, но ошибки более равномерно распределены (похожие вероятности замен, похожее качество у вставок и делеций)."
   ]
  }
 ],
 "metadata": {
  "kernelspec": {
   "display_name": "Python 3 (ipykernel)",
   "language": "python",
   "name": "python3"
  },
  "language_info": {
   "codemirror_mode": {
    "name": "ipython",
    "version": 3
   },
   "file_extension": ".py",
   "mimetype": "text/x-python",
   "name": "python",
   "nbconvert_exporter": "python",
   "pygments_lexer": "ipython3",
   "version": "3.9.10"
  }
 },
 "nbformat": 4,
 "nbformat_minor": 5
}
