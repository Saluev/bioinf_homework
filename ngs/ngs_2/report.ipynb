{
 "cells": [
  {
   "cell_type": "code",
   "execution_count": 2,
   "id": "38a21f66",
   "metadata": {},
   "outputs": [],
   "source": [
    "import sys\n",
    "sys.path.append('/Users/saluev/Work/bioinf_homework/')"
   ]
  },
  {
   "cell_type": "markdown",
   "id": "f5949e00",
   "metadata": {},
   "source": [
    "# Часть 1, датасет 1"
   ]
  },
  {
   "cell_type": "code",
   "execution_count": 4,
   "id": "d3cae044",
   "metadata": {
    "scrolled": true
   },
   "outputs": [
    {
     "name": "stdout",
     "output_type": "stream",
     "text": [
      "[bwa_index] Pack FASTA... 0.06 sec\n",
      "[bwa_index] Construct BWT for the packed sequence...\n",
      "[bwa_index] 1.77 seconds elapse.\n",
      "[bwa_index] Update BWT... 0.03 sec\n",
      "[bwa_index] Pack forward-only FASTA... 0.04 sec\n",
      "[bwa_index] Construct SA from BWT and Occ... 0.73 sec\n",
      "[main] Version: 0.7.17-r1188\n",
      "[main] CMD: /Users/saluev/Downloads/bwa-0.7.17/bwa index /Users/saluev/Downloads/B.faecium/ref.fasta.gz\n",
      "[main] Real time: 3.494 sec; CPU: 2.651 sec\n"
     ]
    }
   ],
   "source": [
    "! /Users/saluev/Downloads/bwa-0.7.17/bwa index /Users/saluev/Downloads/B.faecium/ref.fasta.gz"
   ]
  },
  {
   "cell_type": "code",
   "execution_count": null,
   "id": "fe3b07af",
   "metadata": {},
   "outputs": [],
   "source": [
    "! /Users/saluev/Downloads/bwa-0.7.17/bwa mem -v 0 \\\n",
    "    /Users/saluev/Downloads/B.faecium/ref.fasta.gz \\\n",
    "    /Users/saluev/Downloads/B.faecium/frag*.gz \\\n",
    "    > /Users/saluev/Downloads/B.faecium/frag.sam"
   ]
  },
  {
   "cell_type": "code",
   "execution_count": 21,
   "id": "ad055eef",
   "metadata": {},
   "outputs": [
    {
     "name": "stdout",
     "output_type": "stream",
     "text": [
      "3432529 + 0 in total (QC-passed reads + QC-failed reads)\r\n",
      "3432364 + 0 primary\r\n",
      "0 + 0 secondary\r\n",
      "165 + 0 supplementary\r\n",
      "0 + 0 duplicates\r\n",
      "0 + 0 primary duplicates\r\n",
      "3424657 + 0 mapped (99.77% : N/A)\r\n",
      "3424492 + 0 primary mapped (99.77% : N/A)\r\n",
      "3432364 + 0 paired in sequencing\r\n",
      "1716182 + 0 read1\r\n",
      "1716182 + 0 read2\r\n",
      "3407384 + 0 properly paired (99.27% : N/A)\r\n",
      "3416620 + 0 with itself and mate mapped\r\n",
      "7872 + 0 singletons (0.23% : N/A)\r\n",
      "0 + 0 with mate mapped to a different chr\r\n",
      "0 + 0 with mate mapped to a different chr (mapQ>=5)\r\n"
     ]
    }
   ],
   "source": [
    "! /Users/saluev/Downloads/samtools-1.13/samtools flagstat /Users/saluev/Downloads/B.faecium/frag.sam"
   ]
  },
  {
   "cell_type": "code",
   "execution_count": 22,
   "id": "6a689c51",
   "metadata": {},
   "outputs": [
    {
     "name": "stdout",
     "output_type": "stream",
     "text": [
      "[bam_sort_core] merging from 1 files and 1 in-memory blocks...\r\n"
     ]
    }
   ],
   "source": [
    "! /Users/saluev/Downloads/samtools-1.13/samtools sort /Users/saluev/Downloads/B.faecium/frag.sam \\\n",
    "    -o /Users/saluev/Downloads/B.faecium/frag.sorted.sam"
   ]
  },
  {
   "cell_type": "code",
   "execution_count": 24,
   "id": "bc496bff",
   "metadata": {},
   "outputs": [
    {
     "name": "stdout",
     "output_type": "stream",
     "text": [
      "#rname\tstartpos\tendpos\tnumreads\tcovbases\tcoverage\tmeandepth\tmeanbaseq\tmeanmapq\n",
      "Contig184\t1\t3614991\t3424657\t3614991\t100\t130.585\t56.2\t59.4\n"
     ]
    }
   ],
   "source": [
    "! /Users/saluev/Downloads/samtools-1.13/samtools coverage /Users/saluev/Downloads/B.faecium/frag.sorted.sam"
   ]
  },
  {
   "cell_type": "code",
   "execution_count": 3,
   "id": "d15d421d",
   "metadata": {},
   "outputs": [
    {
     "data": {
      "image/png": "[encoded data removed]",
      "text/plain": [
       "<Figure size 432x288 with 1 Axes>"
      ]
     },
     "metadata": {
      "needs_background": "light"
     },
     "output_type": "display_data"
    }
   ],
   "source": [
    "from ngs.ngs_2.coverage import evaluate_alignment_coverage\n",
    "evaluate_alignment_coverage(\n",
    "    reference=\"/Users/saluev/Downloads/B.faecium/ref.fasta.gz\", \n",
    "    alignment=\"/Users/saluev/Downloads/B.faecium/frag.sorted.sam\",\n",
    "    window=10000,\n",
    ")"
   ]
  },
  {
   "cell_type": "code",
   "execution_count": 10,
   "id": "bd95378b",
   "metadata": {},
   "outputs": [
    {
     "name": "stdout",
     "output_type": "stream",
     "text": [
      "Средний процент ошибок в ридах: 1.88%\n"
     ]
    },
    {
     "data": {
      "text/html": [
       "<div>\n",
       "<style scoped>\n",
       "    .dataframe tbody tr th:only-of-type {\n",
       "        vertical-align: middle;\n",
       "    }\n",
       "\n",
       "    .dataframe tbody tr th {\n",
       "        vertical-align: top;\n",
       "    }\n",
       "\n",
       "    .dataframe thead th {\n",
       "        text-align: right;\n",
       "    }\n",
       "</style>\n",
       "<table border=\"1\" class=\"dataframe\">\n",
       "  <thead>\n",
       "    <tr style=\"text-align: right;\">\n",
       "      <th></th>\n",
       "      <th>A</th>\n",
       "      <th>C</th>\n",
       "      <th>G</th>\n",
       "      <th>T</th>\n",
       "    </tr>\n",
       "  </thead>\n",
       "  <tbody>\n",
       "    <tr>\n",
       "      <th>A</th>\n",
       "      <td>—</td>\n",
       "      <td>1464356</td>\n",
       "      <td>846317</td>\n",
       "      <td>104972</td>\n",
       "    </tr>\n",
       "    <tr>\n",
       "      <th>C</th>\n",
       "      <td>573779</td>\n",
       "      <td>—</td>\n",
       "      <td>1113628</td>\n",
       "      <td>220664</td>\n",
       "    </tr>\n",
       "    <tr>\n",
       "      <th>G</th>\n",
       "      <td>222038</td>\n",
       "      <td>1112636</td>\n",
       "      <td>—</td>\n",
       "      <td>575060</td>\n",
       "    </tr>\n",
       "    <tr>\n",
       "      <th>T</th>\n",
       "      <td>105845</td>\n",
       "      <td>840420</td>\n",
       "      <td>1477178</td>\n",
       "      <td>—</td>\n",
       "    </tr>\n",
       "  </tbody>\n",
       "</table>\n",
       "</div>"
      ],
      "text/plain": [
       "        A        C        G       T\n",
       "A       —  1464356   846317  104972\n",
       "C  573779        —  1113628  220664\n",
       "G  222038  1112636        —  575060\n",
       "T  105845   840420  1477178       —"
      ]
     },
     "execution_count": 10,
     "metadata": {},
     "output_type": "execute_result"
    }
   ],
   "source": [
    "import pandas as pd\n",
    "from ngs.ngs_2.mismatch_frequency import evaluate_mismatch_frequency\n",
    "stats = evaluate_mismatch_frequency(\n",
    "    reference=\"/Users/saluev/Downloads/B.faecium/ref.fasta.gz\", \n",
    "    alignment=\"/Users/saluev/Downloads/B.faecium/frag.sorted.sam\",\n",
    ")\n",
    "print(f\"Средний процент ошибок в ридах: {stats.avg_error_rate*100:.2f}%\")\n",
    "pd.DataFrame(data=[\n",
    "    [stats.replacement_count[n1, n2] if n1 != n2 else \"—\" for n2 in \"ACGT\"]\n",
    "    for n1 in \"ACGT\"\n",
    "], index=list(\"ACGT\"), columns=list(\"ACGT\"))"
   ]
  },
  {
   "cell_type": "markdown",
   "id": "3ccf7f05",
   "metadata": {},
   "source": [
    "# Часть 1, датасет 2"
   ]
  },
  {
   "cell_type": "code",
   "execution_count": null,
   "id": "1780c4af",
   "metadata": {},
   "outputs": [],
   "source": [
    "! /Users/saluev/Downloads/bwa-0.7.17/bwa mem -v 0 \\\n",
    "    /Users/saluev/Downloads/B.faecium/ref.fasta.gz \\\n",
    "    /Users/saluev/Downloads/B.faecium/jump*.gz \\\n",
    "    > /Users/saluev/Downloads/B.faecium/jump.sam\n",
    "! /Users/saluev/Downloads/samtools-1.13/samtools flagstat /Users/saluev/Downloads/B.faecium/jump.sam\n",
    "! /Users/saluev/Downloads/samtools-1.13/samtools sort /Users/saluev/Downloads/B.faecium/jump.sam \\\n",
    "    -o /Users/saluev/Downloads/B.faecium/jump.sorted.sam\n",
    "! /Users/saluev/Downloads/samtools-1.13/samtools coverage /Users/saluev/Downloads/B.faecium/jump.sorted.sam"
   ]
  },
  {
   "cell_type": "code",
   "execution_count": 3,
   "id": "0667232e",
   "metadata": {},
   "outputs": [
    {
     "data": {
      "image/png": "[encoded data removed]",
      "text/plain": [
       "<Figure size 432x288 with 1 Axes>"
      ]
     },
     "metadata": {
      "needs_background": "light"
     },
     "output_type": "display_data"
    }
   ],
   "source": [
    "from ngs.ngs_2.coverage import evaluate_alignment_coverage\n",
    "evaluate_alignment_coverage(\n",
    "    reference=\"/Users/saluev/Downloads/B.faecium/ref.fasta.gz\", \n",
    "    alignment=\"/Users/saluev/Downloads/B.faecium/jump.sorted.sam\",\n",
    "    window=10000,\n",
    ")"
   ]
  },
  {
   "cell_type": "code",
   "execution_count": 2,
   "id": "4d1ccffd",
   "metadata": {},
   "outputs": [
    {
     "name": "stdout",
     "output_type": "stream",
     "text": [
      "Средний процент ошибок в ридах: 0.78%\n"
     ]
    },
    {
     "data": {
      "text/html": [
       "<div>\n",
       "<style scoped>\n",
       "    .dataframe tbody tr th:only-of-type {\n",
       "        vertical-align: middle;\n",
       "    }\n",
       "\n",
       "    .dataframe tbody tr th {\n",
       "        vertical-align: top;\n",
       "    }\n",
       "\n",
       "    .dataframe thead th {\n",
       "        text-align: right;\n",
       "    }\n",
       "</style>\n",
       "<table border=\"1\" class=\"dataframe\">\n",
       "  <thead>\n",
       "    <tr style=\"text-align: right;\">\n",
       "      <th></th>\n",
       "      <th>A</th>\n",
       "      <th>C</th>\n",
       "      <th>G</th>\n",
       "      <th>T</th>\n",
       "    </tr>\n",
       "  </thead>\n",
       "  <tbody>\n",
       "    <tr>\n",
       "      <th>A</th>\n",
       "      <td>—</td>\n",
       "      <td>873929</td>\n",
       "      <td>515943</td>\n",
       "      <td>44330</td>\n",
       "    </tr>\n",
       "    <tr>\n",
       "      <th>C</th>\n",
       "      <td>144778</td>\n",
       "      <td>—</td>\n",
       "      <td>487220</td>\n",
       "      <td>75391</td>\n",
       "    </tr>\n",
       "    <tr>\n",
       "      <th>G</th>\n",
       "      <td>74508</td>\n",
       "      <td>480768</td>\n",
       "      <td>—</td>\n",
       "      <td>145191</td>\n",
       "    </tr>\n",
       "    <tr>\n",
       "      <th>T</th>\n",
       "      <td>44396</td>\n",
       "      <td>506815</td>\n",
       "      <td>887473</td>\n",
       "      <td>—</td>\n",
       "    </tr>\n",
       "  </tbody>\n",
       "</table>\n",
       "</div>"
      ],
      "text/plain": [
       "        A       C       G       T\n",
       "A       —  873929  515943   44330\n",
       "C  144778       —  487220   75391\n",
       "G   74508  480768       —  145191\n",
       "T   44396  506815  887473       —"
      ]
     },
     "execution_count": 2,
     "metadata": {},
     "output_type": "execute_result"
    }
   ],
   "source": [
    "import pandas as pd\n",
    "from ngs.ngs_2.mismatch_frequency import evaluate_mismatch_frequency\n",
    "stats = evaluate_mismatch_frequency(\n",
    "    reference=\"/Users/saluev/Downloads/B.faecium/ref.fasta.gz\", \n",
    "    alignment=\"/Users/saluev/Downloads/B.faecium/jump.sorted.sam\",\n",
    ")\n",
    "print(f\"Средний процент ошибок в ридах: {stats.avg_error_rate*100:.2f}%\")\n",
    "pd.DataFrame(data=[\n",
    "    [stats.replacement_count[n1, n2] if n1 != n2 else \"—\" for n2 in \"ACGT\"]\n",
    "    for n1 in \"ACGT\"\n",
    "], index=list(\"ACGT\"), columns=list(\"ACGT\"))"
   ]
  },
  {
   "cell_type": "markdown",
   "id": "055499b4",
   "metadata": {},
   "source": [
    "# Часть 2"
   ]
  },
  {
   "cell_type": "code",
   "execution_count": 4,
   "id": "de901f4c",
   "metadata": {},
   "outputs": [
    {
     "name": "stdout",
     "output_type": "stream",
     "text": [
      "[bwa_index] Pack FASTA... 0.06 sec\n",
      "[bwa_index] Construct BWT for the packed sequence...\n",
      "[bwa_index] 2.13 seconds elapse.\n",
      "[bwa_index] Update BWT... 0.04 sec\n",
      "[bwa_index] Pack forward-only FASTA... 0.04 sec\n",
      "[bwa_index] Construct SA from BWT and Occ... 0.75 sec\n",
      "[main] Version: 0.7.17-r1188\n",
      "[main] CMD: /Users/saluev/Downloads/bwa-0.7.17/bwa index /Users/saluev/Downloads/2b/DH10B-K12.fasta\n",
      "[main] Real time: 3.186 sec; CPU: 3.027 sec\n"
     ]
    }
   ],
   "source": [
    "! /Users/saluev/Downloads/bwa-0.7.17/bwa index /Users/saluev/Downloads/2b/DH10B-K12.fasta"
   ]
  },
  {
   "cell_type": "code",
   "execution_count": 14,
   "id": "aa625560",
   "metadata": {},
   "outputs": [
    {
     "name": "stdout",
     "output_type": "stream",
     "text": [
      "[main] Version: 0.7.17-r1188\r\n",
      "[main] CMD: /Users/saluev/Downloads/bwa-0.7.17/bwa mem -v 0 /Users/saluev/Downloads/2b/DH10B-K12.fasta /Users/saluev/Downloads/2b/B22-730.fastq.gz\r\n",
      "[main] Real time: 141.518 sec; CPU: 122.683 sec\r\n"
     ]
    }
   ],
   "source": [
    "! /Users/saluev/Downloads/bwa-0.7.17/bwa mem -v 0 \\\n",
    "    /Users/saluev/Downloads/2b/DH10B-K12.fasta \\\n",
    "    /Users/saluev/Downloads/2b/B22-730.fastq.gz \\\n",
    "    > /Users/saluev/Downloads/2b/alignment.sam"
   ]
  },
  {
   "cell_type": "code",
   "execution_count": 15,
   "id": "2f6bea97",
   "metadata": {},
   "outputs": [],
   "source": [
    "! /Users/saluev/Downloads/samtools-1.13/samtools sort /Users/saluev/Downloads/2b/alignment.sam \\\n",
    "    -o /Users/saluev/Downloads/2b/alignment.sorted.sam"
   ]
  },
  {
   "cell_type": "code",
   "execution_count": 3,
   "id": "3b49fcda",
   "metadata": {},
   "outputs": [
    {
     "data": {
      "image/png": "[encoded data removed]",
      "text/plain": [
       "<Figure size 432x288 with 1 Axes>"
      ]
     },
     "metadata": {
      "needs_background": "light"
     },
     "output_type": "display_data"
    },
    {
     "data": {
      "text/plain": [
       "{'gi|170079663|ref|NC_010473.1|': 34.39293635825492}"
      ]
     },
     "execution_count": 3,
     "metadata": {},
     "output_type": "execute_result"
    }
   ],
   "source": [
    "from ngs.ngs_2.coverage import evaluate_alignment_coverage\n",
    "coverage = evaluate_alignment_coverage(\n",
    "    reference=\"/Users/saluev/Downloads/2b/DH10B-K12.fasta\", \n",
    "    alignment=\"/Users/saluev/Downloads/2b/alignment.sorted.sam\",\n",
    "    window=10000,\n",
    ")\n",
    "coverage"
   ]
  },
  {
   "cell_type": "code",
   "execution_count": 4,
   "id": "4aa48d47",
   "metadata": {},
   "outputs": [
    {
     "name": "stdout",
     "output_type": "stream",
     "text": [
      "Средний процент ошибок в ридах: 0.75%\n",
      "Средняя длина вставки: 1.09\n",
      "Средняя длина делеции: 1.06\n",
      "Процент вставок рядом с гомополимерными участками: 18.88%\n",
      "Среднее качество вставленного нуклеотида: 16.09\n",
      "Среднее качество заменённого нуклеотида: 19.14\n"
     ]
    },
    {
     "data": {
      "text/html": [
       "<div>\n",
       "<style scoped>\n",
       "    .dataframe tbody tr th:only-of-type {\n",
       "        vertical-align: middle;\n",
       "    }\n",
       "\n",
       "    .dataframe tbody tr th {\n",
       "        vertical-align: top;\n",
       "    }\n",
       "\n",
       "    .dataframe thead th {\n",
       "        text-align: right;\n",
       "    }\n",
       "</style>\n",
       "<table border=\"1\" class=\"dataframe\">\n",
       "  <thead>\n",
       "    <tr style=\"text-align: right;\">\n",
       "      <th></th>\n",
       "      <th>A</th>\n",
       "      <th>C</th>\n",
       "      <th>G</th>\n",
       "      <th>T</th>\n",
       "      <th>_</th>\n",
       "    </tr>\n",
       "  </thead>\n",
       "  <tbody>\n",
       "    <tr>\n",
       "      <th>A</th>\n",
       "      <td>—</td>\n",
       "      <td>9147</td>\n",
       "      <td>23657</td>\n",
       "      <td>11173</td>\n",
       "      <td>119254</td>\n",
       "    </tr>\n",
       "    <tr>\n",
       "      <th>C</th>\n",
       "      <td>10360</td>\n",
       "      <td>—</td>\n",
       "      <td>8092</td>\n",
       "      <td>16671</td>\n",
       "      <td>72479</td>\n",
       "    </tr>\n",
       "    <tr>\n",
       "      <th>G</th>\n",
       "      <td>17215</td>\n",
       "      <td>7209</td>\n",
       "      <td>—</td>\n",
       "      <td>10563</td>\n",
       "      <td>72804</td>\n",
       "    </tr>\n",
       "    <tr>\n",
       "      <th>T</th>\n",
       "      <td>11325</td>\n",
       "      <td>24493</td>\n",
       "      <td>9060</td>\n",
       "      <td>—</td>\n",
       "      <td>119372</td>\n",
       "    </tr>\n",
       "    <tr>\n",
       "      <th>_</th>\n",
       "      <td>183228</td>\n",
       "      <td>79059</td>\n",
       "      <td>79197</td>\n",
       "      <td>184506</td>\n",
       "      <td>—</td>\n",
       "    </tr>\n",
       "  </tbody>\n",
       "</table>\n",
       "</div>"
      ],
      "text/plain": [
       "        A      C      G       T       _\n",
       "A       —   9147  23657   11173  119254\n",
       "C   10360      —   8092   16671   72479\n",
       "G   17215   7209      —   10563   72804\n",
       "T   11325  24493   9060       —  119372\n",
       "_  183228  79059  79197  184506       —"
      ]
     },
     "execution_count": 4,
     "metadata": {},
     "output_type": "execute_result"
    }
   ],
   "source": [
    "import pandas as pd\n",
    "from ngs.ngs_2.mismatch_frequency import evaluate_mismatch_frequency\n",
    "stats = evaluate_mismatch_frequency(\n",
    "    reference=\"/Users/saluev/Downloads/2b/DH10B-K12.fasta\", \n",
    "    alignment=\"/Users/saluev/Downloads/2b/alignment.sorted.sam\",\n",
    "    homopolymer_length_threshold=4,\n",
    ")\n",
    "print(f\"Средний процент ошибок в ридах: {stats.avg_error_rate*100:.2f}%\")\n",
    "print(f\"Средняя длина вставки: {stats.avg_insertion_length:.2f}\")\n",
    "print(f\"Средняя длина делеции: {stats.avg_deletion_length:.2f}\")\n",
    "print(f\"Процент вставок рядом с гомополимерными участками: {stats.homopolymer_close_insertions_rate*100:.2f}%\")\n",
    "print(f\"Среднее качество вставленного нуклеотида: {stats.avg_insertion_quality:.2f}\")\n",
    "print(f\"Среднее качество заменённого нуклеотида: {stats.avg_mismatch_quality:.2f}\")\n",
    "pd.DataFrame(data=[\n",
    "    [stats.replacement_count[n1, n2] if n1 != n2 else \"—\" for n2 in list(\"ACGT\") + [\"\"]]\n",
    "    for n1 in list(\"ACGT\") + [\"\"]\n",
    "], index=list(\"ACGT_\"), columns=list(\"ACGT_\"))"
   ]
  },
  {
   "cell_type": "code",
   "execution_count": 5,
   "id": "434a6c7f",
   "metadata": {},
   "outputs": [],
   "source": [
    "! osascript -e beep"
   ]
  }
 ],
 "metadata": {
  "kernelspec": {
   "display_name": "Python 3",
   "language": "python",
   "name": "python3"
  },
  "language_info": {
   "codemirror_mode": {
    "name": "ipython",
    "version": 3
   },
   "file_extension": ".py",
   "mimetype": "text/x-python",
   "name": "python",
   "nbconvert_exporter": "python",
   "pygments_lexer": "ipython3",
   "version": "3.6.13"
  }
 },
 "nbformat": 4,
 "nbformat_minor": 5
}
